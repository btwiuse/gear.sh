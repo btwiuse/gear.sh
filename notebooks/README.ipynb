{
 "cells": [
  {
   "cell_type": "markdown",
   "metadata": {},
   "source": [
    "This directory contains experimental `@gear-js/api` notebooks w/ deno jupyter kernel"
   ]
  },
  {
   "cell_type": "markdown",
   "metadata": {},
   "source": [
    "## Deno Jupyter Kernel Install"
   ]
  },
  {
   "cell_type": "markdown",
   "metadata": {},
   "source": [
    "Please follow the official guide to get started: https://docs.deno.com/runtime/manual/tools/jupyter"
   ]
  },
  {
   "cell_type": "markdown",
   "metadata": {},
   "source": [
    "## VSCode Web + Remote Jupyter Server Setup"
   ]
  },
  {
   "cell_type": "markdown",
   "metadata": {},
   "source": [
    "run `jupyter server --generate-config` to generate config, and change the content to"
   ]
  },
  {
   "cell_type": "markdown",
   "metadata": {},
   "source": [
    "```\n",
    "c = get_config()\n",
    "c.ServerApp.allow_origin = '*'\n",
    "c.ServerApp.disable_check_xsrf = True\n",
    "c.IdentityProvider.token = ''\n",
    "```"
   ]
  },
  {
   "cell_type": "markdown",
   "metadata": {},
   "source": [
    "alternatively pass the configs as cli args:"
   ]
  },
  {
   "cell_type": "markdown",
   "metadata": {},
   "source": [
    "```\n",
    "$ jupyter server --ServerApp.allow_origin=\"*\" --ServerApp.disable_check_xsrf=True --IdentityProvider.token=\"\" --ServerApp.allow_root=True --ServerApp.port=8848\n",
    "```"
   ]
  },
  {
   "cell_type": "markdown",
   "metadata": {},
   "source": [
    "then start the server"
   ]
  },
  {
   "cell_type": "markdown",
   "metadata": {},
   "source": [
    "```\n",
    "$ env JUPYTER_PORT=8844 jupyter server\n",
    "```"
   ]
  },
  {
   "cell_type": "markdown",
   "metadata": {},
   "source": [
    "and the ufo tunnel"
   ]
  },
  {
   "cell_type": "markdown",
   "metadata": {},
   "source": [
    "```\n",
    "$ ufo teleport https://ufo.k0s.io/jupyter http://localhost:8844\n",
    "```"
   ]
  },
  {
   "cell_type": "markdown",
   "metadata": {},
   "source": [
    "Use one of\n",
    "\n",
    "- https://github.dev\n",
    "- https://vscode.dev\n",
    "- https://insiders.vscode.dev\n",
    "\n",
    "or open your local vscode\n",
    "\n",
    "install the Jupyter extension\n",
    "\n",
    "create a new jupyter notebook file\n",
    "\n",
    "then click Select Kernel on the top right corner of the notebook toolbar\n",
    "\n",
    "select Existing Server, and fill in `https://jupyter.ufo.k0s.io`\n",
    "\n",
    "press enter to connect\n",
    "\n",
    "press enter again to set a default name for this server\n",
    "\n",
    "select the Deno kernel\n",
    "\n",
    "you may want to change the language to python to make autocompletion work, see https://github.com/denoland/deno/issues/20657"
   ]
  },
  {
   "cell_type": "markdown",
   "metadata": {},
   "source": [
    "### References\n",
    "- https://github.com/datalayer/jupyter-ui/blob/main/dev/py/start-jupyter-py.sh\n",
    "- https://github.com/microsoft/vscode-jupyter/wiki/Connecting-to-a-remote-Jupyter-server-from-vscode.dev"
   ]
  }
 ],
 "metadata": {
  "kernelspec": {
   "display_name": "Deno",
   "language": "python",
   "name": "deno"
  }
 },
 "nbformat": 4,
 "nbformat_minor": 2
}
